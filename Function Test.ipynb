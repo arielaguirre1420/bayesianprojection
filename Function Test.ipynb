{
 "cells": [
  {
   "cell_type": "code",
   "execution_count": 2,
   "metadata": {
    "collapsed": false
   },
   "outputs": [],
   "source": [
    "%matplotlib inline\n",
    "import pymc3 as pm\n",
    "import numpy as np\n",
    "import scipy.stats as stats\n",
    "import matplotlib.pyplot as plt\n",
    "import pymc3 as pm\n",
    "import theano.tensor as tt\n",
    "from theano.tensor import _shared\n",
    "import zhusuan as zs"
   ]
  },
  {
   "cell_type": "code",
   "execution_count": 82,
   "metadata": {
    "collapsed": false
   },
   "outputs": [
    {
     "data": {
      "text/plain": [
       "array([[1000, 869, 743, 653, 593, 551, 517, 491],\n",
       "       [None, 131, 126, 90, 60, 42, 34, 26]], dtype=object)"
      ]
     },
     "execution_count": 82,
     "metadata": {},
     "output_type": "execute_result"
    }
   ],
   "source": [
    "example_data = np.array([1000, 869, 743, 653, 593, 551, 517, 491])\n",
    "def n_lost(data):\n",
    "    lost = [None]\n",
    "    for i in range(1, len(data)):\n",
    "        lost.append(data[i - 1] - data[i])\n",
    "    return lost\n",
    "\n",
    "example_data_n_lost = n_lost(example_data)\n",
    "n = len(example_data)\n",
    "data = (example_data, example_data_n_lost)\n",
    "data = np.asarray(data)\n",
    "data"
   ]
  },
  {
   "cell_type": "code",
   "execution_count": 83,
   "metadata": {
    "collapsed": true
   },
   "outputs": [],
   "source": [
    "alpha = 0.6680763\n",
    "beta = 3.806001526"
   ]
  },
  {
   "cell_type": "code",
   "execution_count": 105,
   "metadata": {
    "collapsed": true
   },
   "outputs": [],
   "source": [
    "def P_T_is_t(alpha=alpha, beta=beta, num_periods=n):\n",
    "    p = np.array([None, alpha / (alpha + beta)])\n",
    "    for t in range(2, num_periods):\n",
    "        pt = ((beta + t - 2) / (alpha + beta + t - 1)) * p[t-1]\n",
    "        p = np.append(p,pt)\n",
    "    return p\n",
    "    \n",
    "def survival_function(P_T_is_t=P_T_is_t, num_periods=n):\n",
    "    p = P_T_is_t()\n",
    "    s = np.array([None, 1 - p[1]])\n",
    "    for t in range(2, num_periods):\n",
    "        s = np.append(s, s[t-1] - p[t])\n",
    "    return s\n",
    "    \n",
    "def logp(value):\n",
    "    active = value[0,:]\n",
    "    lost = value[1,:]\n",
    "\n",
    "    # Those who've churned along the way...\n",
    "    p = P_T_is_t()\n",
    "    died = np.multiply(np.log(np.array(p[1:], dtype=np.float64)), lost[1:]) \n",
    "\n",
    "    # and those still active in last period\n",
    "    sf = survival_function()\n",
    "    still_active = np.log(sf[-1]) * active[-1]              \n",
    "    return sum(died) + still_active"
   ]
  },
  {
   "cell_type": "code",
   "execution_count": 106,
   "metadata": {
    "collapsed": false
   },
   "outputs": [],
   "source": [
    "p = np.array(P_T_is_t())"
   ]
  },
  {
   "cell_type": "code",
   "execution_count": 107,
   "metadata": {
    "collapsed": false
   },
   "outputs": [
    {
     "data": {
      "text/plain": [
       "-1611.1581473982744"
      ]
     },
     "execution_count": 107,
     "metadata": {},
     "output_type": "execute_result"
    }
   ],
   "source": [
    "logp(data)"
   ]
  },
  {
   "cell_type": "code",
   "execution_count": 104,
   "metadata": {
    "collapsed": false
   },
   "outputs": [
    {
     "data": {
      "text/plain": [
       "array([-1.90165315, -2.26509781, -2.56303853, -2.81558714, -3.03479418,\n",
       "       -3.22846073, -3.40193068])"
      ]
     },
     "execution_count": 104,
     "metadata": {},
     "output_type": "execute_result"
    }
   ],
   "source": [
    "np.log(np.array(p[1:], dtype=np.float64))"
   ]
  },
  {
   "cell_type": "code",
   "execution_count": null,
   "metadata": {
    "collapsed": true
   },
   "outputs": [],
   "source": []
  }
 ],
 "metadata": {
  "kernelspec": {
   "display_name": "Python [Root]",
   "language": "python",
   "name": "Python [Root]"
  },
  "language_info": {
   "codemirror_mode": {
    "name": "ipython",
    "version": 3
   },
   "file_extension": ".py",
   "mimetype": "text/x-python",
   "name": "python",
   "nbconvert_exporter": "python",
   "pygments_lexer": "ipython3",
   "version": "3.5.2"
  }
 },
 "nbformat": 4,
 "nbformat_minor": 0
}
