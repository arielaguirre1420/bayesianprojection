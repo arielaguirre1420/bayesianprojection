{
 "cells": [
  {
   "cell_type": "markdown",
   "metadata": {},
   "source": [
    "# Bayesian Revenue Projection\n",
    "`By Ariel Aguirre`\n",
    "\n",
    "---\n",
    "\n",
    "This code pretends to project revenue using pymc3"
   ]
  },
  {
   "cell_type": "code",
   "execution_count": 121,
   "metadata": {
    "collapsed": false
   },
   "outputs": [],
   "source": [
    "%matplotlib inline\n",
    "import pandas as pd\n",
    "import numpy as np\n",
    "import matplotlib.pyplot as plt"
   ]
  },
  {
   "cell_type": "markdown",
   "metadata": {},
   "source": [
    "## Revenue\n",
    "Let's get the revenue data, take a look at it, the make the proper transformations"
   ]
  },
  {
   "cell_type": "code",
   "execution_count": 23,
   "metadata": {
    "collapsed": false
   },
   "outputs": [],
   "source": [
    "df = pd.DataFrame.from_csv(\"revenue.csv\", sep=',', index_col=None)"
   ]
  },
  {
   "cell_type": "code",
   "execution_count": 24,
   "metadata": {
    "collapsed": false
   },
   "outputs": [
    {
     "data": {
      "text/html": [
       "<div>\n",
       "<table border=\"1\" class=\"dataframe\">\n",
       "  <thead>\n",
       "    <tr style=\"text-align: right;\">\n",
       "      <th></th>\n",
       "      <th>install_dt</th>\n",
       "      <th>age</th>\n",
       "      <th>revenue</th>\n",
       "    </tr>\n",
       "  </thead>\n",
       "  <tbody>\n",
       "    <tr>\n",
       "      <th>0</th>\n",
       "      <td>2016-07-01</td>\n",
       "      <td>0</td>\n",
       "      <td>572.68</td>\n",
       "    </tr>\n",
       "    <tr>\n",
       "      <th>1</th>\n",
       "      <td>2016-07-01</td>\n",
       "      <td>1</td>\n",
       "      <td>852.33</td>\n",
       "    </tr>\n",
       "    <tr>\n",
       "      <th>2</th>\n",
       "      <td>2016-07-01</td>\n",
       "      <td>2</td>\n",
       "      <td>533.93</td>\n",
       "    </tr>\n",
       "    <tr>\n",
       "      <th>3</th>\n",
       "      <td>2016-07-01</td>\n",
       "      <td>3</td>\n",
       "      <td>593.93</td>\n",
       "    </tr>\n",
       "    <tr>\n",
       "      <th>4</th>\n",
       "      <td>2016-07-01</td>\n",
       "      <td>4</td>\n",
       "      <td>456.14</td>\n",
       "    </tr>\n",
       "  </tbody>\n",
       "</table>\n",
       "</div>"
      ],
      "text/plain": [
       "   install_dt  age  revenue\n",
       "0  2016-07-01    0   572.68\n",
       "1  2016-07-01    1   852.33\n",
       "2  2016-07-01    2   533.93\n",
       "3  2016-07-01    3   593.93\n",
       "4  2016-07-01    4   456.14"
      ]
     },
     "execution_count": 24,
     "metadata": {},
     "output_type": "execute_result"
    }
   ],
   "source": [
    "df.head()"
   ]
  },
  {
   "cell_type": "code",
   "execution_count": 55,
   "metadata": {
    "collapsed": false
   },
   "outputs": [
    {
     "data": {
      "text/plain": [
       "str"
      ]
     },
     "execution_count": 55,
     "metadata": {},
     "output_type": "execute_result"
    }
   ],
   "source": [
    "type(df.values[0,0])"
   ]
  },
  {
   "cell_type": "code",
   "execution_count": 63,
   "metadata": {
    "collapsed": false
   },
   "outputs": [],
   "source": [
    "df2 = df.pivot(index=\"install_dt\", columns=\"age\", values=\"revenue\")"
   ]
  },
  {
   "cell_type": "code",
   "execution_count": 104,
   "metadata": {
    "collapsed": false
   },
   "outputs": [
    {
     "data": {
      "text/html": [
       "<div>\n",
       "<table border=\"1\" class=\"dataframe\">\n",
       "  <thead>\n",
       "    <tr style=\"text-align: right;\">\n",
       "      <th>age</th>\n",
       "      <th>0</th>\n",
       "      <th>1</th>\n",
       "      <th>2</th>\n",
       "      <th>3</th>\n",
       "      <th>4</th>\n",
       "      <th>5</th>\n",
       "      <th>6</th>\n",
       "      <th>7</th>\n",
       "      <th>8</th>\n",
       "      <th>9</th>\n",
       "      <th>...</th>\n",
       "      <th>171</th>\n",
       "      <th>172</th>\n",
       "      <th>173</th>\n",
       "      <th>174</th>\n",
       "      <th>175</th>\n",
       "      <th>176</th>\n",
       "      <th>177</th>\n",
       "      <th>178</th>\n",
       "      <th>179</th>\n",
       "      <th>180</th>\n",
       "    </tr>\n",
       "    <tr>\n",
       "      <th>install_dt</th>\n",
       "      <th></th>\n",
       "      <th></th>\n",
       "      <th></th>\n",
       "      <th></th>\n",
       "      <th></th>\n",
       "      <th></th>\n",
       "      <th></th>\n",
       "      <th></th>\n",
       "      <th></th>\n",
       "      <th></th>\n",
       "      <th></th>\n",
       "      <th></th>\n",
       "      <th></th>\n",
       "      <th></th>\n",
       "      <th></th>\n",
       "      <th></th>\n",
       "      <th></th>\n",
       "      <th></th>\n",
       "      <th></th>\n",
       "      <th></th>\n",
       "      <th></th>\n",
       "    </tr>\n",
       "  </thead>\n",
       "  <tbody>\n",
       "    <tr>\n",
       "      <th>2016-07-01</th>\n",
       "      <td>572.68</td>\n",
       "      <td>852.33</td>\n",
       "      <td>533.93</td>\n",
       "      <td>593.93</td>\n",
       "      <td>456.14</td>\n",
       "      <td>463.97</td>\n",
       "      <td>477.96</td>\n",
       "      <td>558.95</td>\n",
       "      <td>400.93</td>\n",
       "      <td>617.74</td>\n",
       "      <td>...</td>\n",
       "      <td>196.57</td>\n",
       "      <td>183.55</td>\n",
       "      <td>246.70</td>\n",
       "      <td>295.34</td>\n",
       "      <td>204.48</td>\n",
       "      <td>97.82</td>\n",
       "      <td>108.77</td>\n",
       "      <td>104.76</td>\n",
       "      <td>374.25</td>\n",
       "      <td>238.43</td>\n",
       "    </tr>\n",
       "    <tr>\n",
       "      <th>2016-07-02</th>\n",
       "      <td>487.80</td>\n",
       "      <td>818.33</td>\n",
       "      <td>661.87</td>\n",
       "      <td>569.20</td>\n",
       "      <td>557.11</td>\n",
       "      <td>644.24</td>\n",
       "      <td>582.09</td>\n",
       "      <td>604.91</td>\n",
       "      <td>596.04</td>\n",
       "      <td>378.20</td>\n",
       "      <td>...</td>\n",
       "      <td>146.70</td>\n",
       "      <td>153.69</td>\n",
       "      <td>154.60</td>\n",
       "      <td>434.07</td>\n",
       "      <td>239.52</td>\n",
       "      <td>242.45</td>\n",
       "      <td>259.42</td>\n",
       "      <td>223.48</td>\n",
       "      <td>239.52</td>\n",
       "      <td>333.45</td>\n",
       "    </tr>\n",
       "    <tr>\n",
       "      <th>2016-07-03</th>\n",
       "      <td>425.82</td>\n",
       "      <td>460.62</td>\n",
       "      <td>536.94</td>\n",
       "      <td>448.90</td>\n",
       "      <td>507.88</td>\n",
       "      <td>449.11</td>\n",
       "      <td>369.22</td>\n",
       "      <td>344.15</td>\n",
       "      <td>370.15</td>\n",
       "      <td>382.11</td>\n",
       "      <td>...</td>\n",
       "      <td>227.57</td>\n",
       "      <td>135.68</td>\n",
       "      <td>146.57</td>\n",
       "      <td>154.60</td>\n",
       "      <td>92.73</td>\n",
       "      <td>151.69</td>\n",
       "      <td>113.70</td>\n",
       "      <td>238.49</td>\n",
       "      <td>192.54</td>\n",
       "      <td>198.52</td>\n",
       "    </tr>\n",
       "    <tr>\n",
       "      <th>2016-07-04</th>\n",
       "      <td>786.67</td>\n",
       "      <td>732.60</td>\n",
       "      <td>768.41</td>\n",
       "      <td>619.40</td>\n",
       "      <td>513.56</td>\n",
       "      <td>776.21</td>\n",
       "      <td>676.14</td>\n",
       "      <td>530.67</td>\n",
       "      <td>580.87</td>\n",
       "      <td>571.56</td>\n",
       "      <td>...</td>\n",
       "      <td>204.51</td>\n",
       "      <td>357.91</td>\n",
       "      <td>180.42</td>\n",
       "      <td>166.44</td>\n",
       "      <td>178.26</td>\n",
       "      <td>174.40</td>\n",
       "      <td>352.26</td>\n",
       "      <td>272.29</td>\n",
       "      <td>154.40</td>\n",
       "      <td>179.41</td>\n",
       "    </tr>\n",
       "    <tr>\n",
       "      <th>2016-07-05</th>\n",
       "      <td>401.17</td>\n",
       "      <td>575.89</td>\n",
       "      <td>735.86</td>\n",
       "      <td>754.02</td>\n",
       "      <td>355.17</td>\n",
       "      <td>496.08</td>\n",
       "      <td>277.34</td>\n",
       "      <td>389.07</td>\n",
       "      <td>318.26</td>\n",
       "      <td>330.10</td>\n",
       "      <td>...</td>\n",
       "      <td>188.55</td>\n",
       "      <td>65.72</td>\n",
       "      <td>95.73</td>\n",
       "      <td>128.72</td>\n",
       "      <td>117.68</td>\n",
       "      <td>155.58</td>\n",
       "      <td>172.60</td>\n",
       "      <td>145.57</td>\n",
       "      <td>128.54</td>\n",
       "      <td>156.54</td>\n",
       "    </tr>\n",
       "  </tbody>\n",
       "</table>\n",
       "<p>5 rows × 181 columns</p>\n",
       "</div>"
      ],
      "text/plain": [
       "age            0       1       2       3       4       5       6       7    \\\n",
       "install_dt                                                                   \n",
       "2016-07-01  572.68  852.33  533.93  593.93  456.14  463.97  477.96  558.95   \n",
       "2016-07-02  487.80  818.33  661.87  569.20  557.11  644.24  582.09  604.91   \n",
       "2016-07-03  425.82  460.62  536.94  448.90  507.88  449.11  369.22  344.15   \n",
       "2016-07-04  786.67  732.60  768.41  619.40  513.56  776.21  676.14  530.67   \n",
       "2016-07-05  401.17  575.89  735.86  754.02  355.17  496.08  277.34  389.07   \n",
       "\n",
       "age            8       9     ...       171     172     173     174     175  \\\n",
       "install_dt                   ...                                             \n",
       "2016-07-01  400.93  617.74   ...    196.57  183.55  246.70  295.34  204.48   \n",
       "2016-07-02  596.04  378.20   ...    146.70  153.69  154.60  434.07  239.52   \n",
       "2016-07-03  370.15  382.11   ...    227.57  135.68  146.57  154.60   92.73   \n",
       "2016-07-04  580.87  571.56   ...    204.51  357.91  180.42  166.44  178.26   \n",
       "2016-07-05  318.26  330.10   ...    188.55   65.72   95.73  128.72  117.68   \n",
       "\n",
       "age            176     177     178     179     180  \n",
       "install_dt                                          \n",
       "2016-07-01   97.82  108.77  104.76  374.25  238.43  \n",
       "2016-07-02  242.45  259.42  223.48  239.52  333.45  \n",
       "2016-07-03  151.69  113.70  238.49  192.54  198.52  \n",
       "2016-07-04  174.40  352.26  272.29  154.40  179.41  \n",
       "2016-07-05  155.58  172.60  145.57  128.54  156.54  \n",
       "\n",
       "[5 rows x 181 columns]"
      ]
     },
     "execution_count": 104,
     "metadata": {},
     "output_type": "execute_result"
    }
   ],
   "source": [
    "df2.head()\n"
   ]
  },
  {
   "cell_type": "code",
   "execution_count": 105,
   "metadata": {
    "collapsed": false
   },
   "outputs": [
    {
     "data": {
      "text/plain": [
       "533.92999999999995"
      ]
     },
     "execution_count": 105,
     "metadata": {},
     "output_type": "execute_result"
    }
   ],
   "source": [
    "df2.values[0,2]"
   ]
  },
  {
   "cell_type": "code",
   "execution_count": 276,
   "metadata": {
    "collapsed": true
   },
   "outputs": [],
   "source": [
    "def moving_average(data_set, periods=3):\n",
    "    weights = np.ones(periods) / periods\n",
    "    output = np.copy(data_set)\n",
    "    output[0:(periods+1)] = data_set[0:(periods+1)]\n",
    "    output[(periods-1):(data_set.size+4)] = np.convolve(data_set, weights, mode='valid')\n",
    "    return output"
   ]
  },
  {
   "cell_type": "code",
   "execution_count": 279,
   "metadata": {
    "collapsed": false
   },
   "outputs": [
    {
     "name": "stdout",
     "output_type": "stream",
     "text": [
      "0   1\n",
      "1   50\n",
      "2   100\n",
      "[ 572.68  852.33  533.93  593.93  456.14  463.97  477.96  558.95  400.93\n",
      "  617.74  348.21  454.89  424.    338.28  677.66  539.97  472.02  343.17\n",
      "  402.91  388.07  457.12  522.15  345.27  443.88  509.07  345.23  416.26\n",
      "  376.3   429.12  336.18  290.38  224.38  235.49  161.66  389.28  313.36\n",
      "  285.33  339.43  250.31  266.34  203.5   304.34  200.47  288.42  294.52\n",
      "  312.5   167.53  233.43  234.5   255.52  344.41  184.6   225.63  200.6\n",
      "  350.35  285.34  377.19  249.37  389.36  166.6   229.36  202.48  228.4\n",
      "  232.42  146.55  135.62  168.46  155.64  249.59  153.63  278.35  173.66\n",
      "  195.45  191.55  149.66  235.46  286.45  225.53  193.54  266.4   248.34\n",
      "  194.41  178.52  176.48  326.21  400.08  271.33  170.57  172.64  106.68\n",
      "  298.39  328.33  302.27  236.41  278.34  160.62  240.5   348.27  116.62\n",
      "  216.49  178.43   94.66  129.4   284.33  242.31  220.23  216.36  171.42\n",
      "  148.64  240.36  151.53  210.42  349.28  220.52  143.61  181.51  240.45\n",
      "  252.3   214.41  381.38  223.39  220.4   125.62  246.28  230.33  367.\n",
      "  191.57  212.47  222.26  180.53  183.56  210.57  214.28  364.25  259.48\n",
      "  202.64  124.73  121.7    80.72  160.6   277.49  123.55  180.51  156.64\n",
      "   90.7   186.55  211.47  221.38  118.62  149.47   76.81  101.72  231.5\n",
      "  198.43  264.52  194.53  330.36  123.69  254.52  114.64  127.72  209.54\n",
      "  167.54   74.74   88.78  114.72  154.54  188.47  117.7   184.62  197.66\n",
      "  196.57  183.55  246.7   295.34  204.48   97.82  108.77  104.76  374.25\n",
      "  238.43]\n",
      "[ 572.68        852.33        533.93        593.93        456.14        463.97\n",
      "  564.42        562.45857143  497.97285714  509.94571429  474.84285714\n",
      "  474.66428571  468.95428571  449.          465.95857143  485.82142857\n",
      "  465.00428571  464.28428571  456.85857143  451.72571429  468.70285714\n",
      "  446.48714286  418.67285714  414.65285714  438.35285714  430.11285714\n",
      "  434.14        422.59428571  409.30428571  408.00571429  386.07714286\n",
      "  345.40714286  329.73        293.35857143  295.21285714  278.67571429\n",
      "  271.41142857  278.41857143  282.12285714  286.53        292.50714286\n",
      "  280.37285714  264.24571429  264.68714286  258.27142857  267.15571429\n",
      "  253.04        257.31571429  247.33857143  255.20285714  263.20142857\n",
      "  247.49857143  235.08857143  239.81285714  256.51571429  263.77857143\n",
      "  281.16        267.58285714  296.83428571  288.40142857  292.51\n",
      "  271.38571429  263.25142857  242.57        227.88142857  191.63285714\n",
      "  191.89857143  181.36714286  188.09714286  177.41571429  183.97714286\n",
      "  187.85        196.39714286  199.69571429  198.84142857  196.82285714\n",
      "  215.79714286  208.25142857  211.09142857  221.22714286  229.34\n",
      "  235.73285714  227.59857143  211.88857143  226.27142857  255.77714286\n",
      "  256.48142857  245.37142857  242.26142857  231.99857143  249.41428571\n",
      "  249.71714286  235.74428571  230.75571429  246.15142857  244.43428571\n",
      "  263.55142857  270.67714286  240.43285714  228.17857143  219.89571429\n",
      "  193.65571429  189.19571429  195.45714286  180.32        195.12142857\n",
      "  195.10285714  194.10142857  201.81285714  217.66428571  198.69285714\n",
      "  194.13714286  212.57285714  213.16714286  209.19428571  213.89\n",
      "  213.90285714  228.29857143  228.86857143  233.45428571  233.86428571\n",
      "  244.83428571  236.85        237.68285714  234.54428571  256.34285714\n",
      "  229.22714286  227.66714286  227.93285714  235.77714286  226.81714286\n",
      "  223.99428571  202.17714286  226.84571429  233.56142857  230.75857143\n",
      "  222.78714286  213.95        195.4         187.73142857  175.33714286\n",
      "  155.91857143  152.75714286  157.31571429  152.88714286  168.00571429\n",
      "  175.27285714  167.25714286  166.55285714  162.11857143  150.71428571\n",
      "  152.28857143  158.71        156.84714286  163.01        173.85428571\n",
      "  199.69571429  206.39285714  228.22142857  211.52714286  201.42571429\n",
      "  193.57142857  189.71571429  153.19857143  148.21142857  128.24        133.94\n",
      "  142.61857143  129.49857143  131.93857143  149.49857143  164.89714286\n",
      "  174.73        187.89571429  203.16285714  215.56        203.16\n",
      "  190.46142857  177.34571429  204.58857143  203.40714286]\n"
     ]
    }
   ],
   "source": [
    "checks = [1,50,100]\n",
    "colors = ['purple', 'red', 'green', 'blue']\n",
    "dssize = revenue.shape[1]\n",
    "#print(dssize)\n",
    "#(revenue[10:11].reshape((dssize,)))\n",
    "for i,j in enumerate(checks):\n",
    "    print(i, \" \", j)\n",
    "    \n",
    "revenue2 = revenue[0:1].reshape((dssize,))\n",
    "print(revenue2)\n",
    "print(moving_average(revenue2,7))"
   ]
  },
  {
   "cell_type": "code",
   "execution_count": 280,
   "metadata": {
    "collapsed": false
   },
   "outputs": [
    {
     "name": "stdout",
     "output_type": "stream",
     "text": [
      "(181,)   (181,)\n"
     ]
    },
    {
     "data": {
      "image/png": "[encoded data removed]",
      "text/plain": [
       "<matplotlib.figure.Figure at 0x1c0d613efd0>"
      ]
     },
     "metadata": {},
     "output_type": "display_data"
    }
   ],
   "source": [
    "x = np.array(range(0,dssize,1))\n",
    "x = x.reshape((dssize,))\n",
    "print(x.shape, \" \", revenue2.shape)\n",
    "fig = plt.figure()\n",
    "\n",
    "#x.shape == revenue2.shape\n",
    "\n",
    "for i,j in enumerate(checks):\n",
    "    revenue2 = revenue[j:(j+1)].reshape((dssize,))\n",
    "    plt.plot(x, moving_average(revenue2,7),'-', color=colors[i])\n",
    "\n",
    "plt.show()\n"
   ]
  },
  {
   "cell_type": "markdown",
   "metadata": {},
   "source": [
    "## Retention\n",
    "Let's do the same with retention, in this case we don't need to pivot the table"
   ]
  },
  {
   "cell_type": "code",
   "execution_count": null,
   "metadata": {
    "collapsed": true
   },
   "outputs": [],
   "source": []
  }
 ],
 "metadata": {
  "kernelspec": {
   "display_name": "Python [Root]",
   "language": "python",
   "name": "Python [Root]"
  },
  "language_info": {
   "codemirror_mode": {
    "name": "ipython",
    "version": 3
   },
   "file_extension": ".py",
   "mimetype": "text/x-python",
   "name": "python",
   "nbconvert_exporter": "python",
   "pygments_lexer": "ipython3",
   "version": "3.5.2"
  }
 },
 "nbformat": 4,
 "nbformat_minor": 0
}
