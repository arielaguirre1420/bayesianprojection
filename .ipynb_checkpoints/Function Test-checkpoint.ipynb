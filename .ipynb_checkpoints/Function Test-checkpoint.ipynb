{
 "cells": [
  {
   "cell_type": "code",
   "execution_count": 71,
   "metadata": {
    "collapsed": false
   },
   "outputs": [],
   "source": [
    "%matplotlib inline\n",
    "import pymc3 as pm\n",
    "import numpy as np\n",
    "import scipy.stats as stats\n",
    "import matplotlib.pyplot as plt\n",
    "import pymc3 as pm\n",
    "import theano.tensor as tt\n",
    "from theano.tensor import _shared"
   ]
  },
  {
   "cell_type": "code",
   "execution_count": 64,
   "metadata": {
    "collapsed": false
   },
   "outputs": [
    {
     "data": {
      "text/plain": [
       "array([[1.0, 0.869, 0.743, 0.653, 0.593, 0.551, 0.517, 0.491],\n",
       "       [None, 0.13100000000000001, 0.126, 0.089999999999999969,\n",
       "        0.060000000000000053, 0.041999999999999926, 0.03400000000000003,\n",
       "        0.026000000000000023]], dtype=object)"
      ]
     },
     "execution_count": 64,
     "metadata": {},
     "output_type": "execute_result"
    }
   ],
   "source": [
    "example_data = np.array([1000, 869, 743, 653, 593, 551, 517, 491])/1000\n",
    "def n_lost(data):\n",
    "    lost = [None]\n",
    "    for i in range(1, len(data)):\n",
    "        lost.append(data[i - 1] - data[i])\n",
    "    return lost\n",
    "\n",
    "example_data_n_lost = n_lost(example_data)\n",
    "n = len(example_data)\n",
    "data = (example_data, example_data_n_lost)\n",
    "data = np.asarray(data)\n",
    "data"
   ]
  },
  {
   "cell_type": "code",
   "execution_count": 65,
   "metadata": {
    "collapsed": true
   },
   "outputs": [],
   "source": [
    "alpha = 0.6680763\n",
    "beta = 3.806001526"
   ]
  },
  {
   "cell_type": "code",
   "execution_count": 66,
   "metadata": {
    "collapsed": true
   },
   "outputs": [],
   "source": [
    "def P_T_is_t(alpha=alpha, beta=beta, num_periods=n):\n",
    "    p = np.array([None, alpha / (alpha + beta)])\n",
    "    for t in range(2, num_periods):\n",
    "        pt = ((beta + t - 2) / (alpha + beta + t - 1)) * p[t-1]\n",
    "        p = np.append(p,pt)\n",
    "    return p\n",
    "    \n",
    "def survival_function(P_T_is_t=P_T_is_t, num_periods=n):\n",
    "    p = P_T_is_t()\n",
    "    s = np.array([None, 1 - p[1]])\n",
    "    for t in range(2, num_periods):\n",
    "        s = np.append(s, s[t-1] - p[t])\n",
    "    return s\n",
    "    \n",
    "def logp(value):\n",
    "    active = value[0,:]\n",
    "    lost = value[1,:]\n",
    "\n",
    "    # Those who've churned along the way...\n",
    "    p = P_T_is_t()\n",
    "    print((p[1:]).log())\n",
    "    died = np.multiply(np.log(p[1:]), lost[1:]) \n",
    "\n",
    "    # and those still active in last period\n",
    "    sf = survival_function()\n",
    "    still_active = np.log(sf[-1]) * active[-1]              \n",
    "    return sum(died) + still_active"
   ]
  },
  {
   "cell_type": "code",
   "execution_count": 67,
   "metadata": {
    "collapsed": false
   },
   "outputs": [],
   "source": [
    "p = np.asarray(P_T_is_t())"
   ]
  },
  {
   "cell_type": "code",
   "execution_count": 68,
   "metadata": {
    "collapsed": false
   },
   "outputs": [],
   "source": [
    "p[0]=1"
   ]
  },
  {
   "cell_type": "code",
   "execution_count": 69,
   "metadata": {
    "collapsed": false
   },
   "outputs": [
    {
     "ename": "AttributeError",
     "evalue": "'float' object has no attribute 'log'",
     "output_type": "error",
     "traceback": [
      "\u001b[1;31m---------------------------------------------------------------------------\u001b[0m",
      "\u001b[1;31mAttributeError\u001b[0m                            Traceback (most recent call last)",
      "\u001b[1;32m<ipython-input-69-a035eef3d05e>\u001b[0m in \u001b[0;36m<module>\u001b[1;34m()\u001b[0m\n\u001b[1;32m----> 1\u001b[1;33m \u001b[0mnp\u001b[0m\u001b[1;33m.\u001b[0m\u001b[0mlog\u001b[0m\u001b[1;33m(\u001b[0m\u001b[0mdata\u001b[0m\u001b[1;33m)\u001b[0m\u001b[1;33m\u001b[0m\u001b[0m\n\u001b[0m",
      "\u001b[1;31mAttributeError\u001b[0m: 'float' object has no attribute 'log'"
     ]
    }
   ],
   "source": [
    "np.log(data)"
   ]
  },
  {
   "cell_type": "code",
   "execution_count": null,
   "metadata": {
    "collapsed": true
   },
   "outputs": [],
   "source": []
  }
 ],
 "metadata": {
  "kernelspec": {
   "display_name": "Python [Root]",
   "language": "python",
   "name": "Python [Root]"
  },
  "language_info": {
   "codemirror_mode": {
    "name": "ipython",
    "version": 3
   },
   "file_extension": ".py",
   "mimetype": "text/x-python",
   "name": "python",
   "nbconvert_exporter": "python",
   "pygments_lexer": "ipython3",
   "version": "3.5.2"
  }
 },
 "nbformat": 4,
 "nbformat_minor": 0
}
